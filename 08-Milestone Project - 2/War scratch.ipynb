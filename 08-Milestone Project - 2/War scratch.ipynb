{
 "cells": [
  {
   "cell_type": "code",
   "execution_count": 100,
   "outputs": [],
   "source": [
    "# create list of suits and dictionary of values\n",
    "import random\n",
    "\n",
    "suits = ('Spades', 'Hearts', 'Clubs', 'Diamonds')\n",
    "ranks = ('Two', 'Three', 'Four', 'Five', 'Six', 'Seven', 'Eight', 'Nine', 'Ten', 'Jack', 'Queen', 'King', 'Ace')\n",
    "values = {'Two':2, 'Three':3, 'Four':4, 'Five':5, 'Six':6, 'Seven':7, 'Eight':8,\n",
    "            'Nine':9, 'Ten':10, 'Jack':11, 'Queen':12, 'King':13, 'Ace':14}"
   ],
   "metadata": {
    "collapsed": false,
    "pycharm": {
     "name": "#%%\n"
    }
   }
  },
  {
   "cell_type": "markdown",
   "source": [
    "Card class creation"
   ],
   "metadata": {
    "collapsed": false
   }
  },
  {
   "cell_type": "code",
   "execution_count": 101,
   "metadata": {
    "collapsed": true,
    "pycharm": {
     "name": "#%%\n"
    }
   },
   "outputs": [],
   "source": [
    "# create class of cards with attributes of suit and rank\n",
    "\n",
    "class Card:\n",
    "\n",
    "    def __init__(self, suit, rank):\n",
    "        self.suit = suit\n",
    "        self.rank = rank\n",
    "        self.value = values[rank]\n",
    "\n",
    "    def __str__(self):\n",
    "        return f'{self.rank} of {self.suit}'"
   ]
  },
  {
   "cell_type": "markdown",
   "source": [
    "Deck class creation"
   ],
   "metadata": {
    "collapsed": false
   }
  },
  {
   "cell_type": "code",
   "execution_count": 102,
   "outputs": [],
   "source": [
    "class Deck:\n",
    "\n",
    "    def __init__(self):\n",
    "        self.all_cards = []\n",
    "\n",
    "        for suit in suits:\n",
    "            for rank in ranks:\n",
    "                created_card = Card(suit,rank)\n",
    "                self.all_cards.append(created_card)\n",
    "\n",
    "    def shuffle(self):\n",
    "        random.shuffle(self.all_cards)\n",
    "\n",
    "    def deal_card(self):\n",
    "        return self.all_cards.pop()"
   ],
   "metadata": {
    "collapsed": false,
    "pycharm": {
     "name": "#%%\n"
    }
   }
  },
  {
   "cell_type": "code",
   "execution_count": 103,
   "outputs": [],
   "source": [
    "new_deck = Deck()\n",
    "new_deck.shuffle()"
   ],
   "metadata": {
    "collapsed": false,
    "pycharm": {
     "name": "#%%\n"
    }
   }
  },
  {
   "cell_type": "markdown",
   "source": [
    "Player class"
   ],
   "metadata": {
    "collapsed": false
   }
  },
  {
   "cell_type": "code",
   "execution_count": 104,
   "outputs": [],
   "source": [
    "class Player:\n",
    "    def __init__(self, name):\n",
    "        self.name = name\n",
    "        self.all_cards = []\n",
    "\n",
    "    def remove_card(self):\n",
    "        return self.all_cards.pop(0)\n",
    "\n",
    "    def add_card(self, new_cards):\n",
    "        # if list of multiple card objects\n",
    "        if type(new_cards) == type([]):\n",
    "            self.all_cards.extend(new_cards)\n",
    "        # if input is for a single card\n",
    "        else:\n",
    "            self.all_cards.append(new_cards)\n",
    "\n",
    "    def __str__(self):\n",
    "        return f'Player {self.name} has {len(self.all_cards)} card(s)'"
   ],
   "metadata": {
    "collapsed": false,
    "pycharm": {
     "name": "#%%\n"
    }
   }
  },
  {
   "cell_type": "markdown",
   "source": [
    "Game logic"
   ],
   "metadata": {
    "collapsed": false,
    "pycharm": {
     "name": "#%% md\n"
    }
   }
  },
  {
   "cell_type": "code",
   "execution_count": 105,
   "outputs": [],
   "source": [
    "# game set up\n",
    "player_one = Player(\"One\")\n",
    "player_two = Player(\"Two\")\n",
    "\n",
    "new_deck = Deck()\n",
    "new_deck.shuffle()\n",
    "\n",
    "for x in range(26):\n",
    "    player_two.add_card(new_deck.deal_card())\n",
    "    player_one.add_card(new_deck.deal_card())"
   ],
   "metadata": {
    "collapsed": false,
    "pycharm": {
     "name": "#%%\n"
    }
   }
  },
  {
   "cell_type": "code",
   "execution_count": 106,
   "outputs": [],
   "source": [
    "game_on = True"
   ],
   "metadata": {
    "collapsed": false,
    "pycharm": {
     "name": "#%%\n"
    }
   }
  },
  {
   "cell_type": "code",
   "execution_count": 107,
   "outputs": [
    {
     "name": "stdout",
     "output_type": "stream",
     "text": [
      "Currently at round 1\n",
      "Currently at round 2\n",
      "Currently at round 3\n",
      "Currently at round 4\n",
      "Currently at round 5\n",
      "Currently at round 6\n",
      "Currently at round 7\n",
      "Currently at round 8\n",
      "Currently at round 9\n",
      "Currently at round 10\n",
      "War ensuing\n",
      "Currently at round 11\n",
      "War ensuing\n",
      "War ensuing\n",
      "Currently at round 12\n",
      "Currently at round 13\n",
      "Currently at round 14\n",
      "Currently at round 15\n",
      "Currently at round 16\n",
      "Currently at round 17\n",
      "War ensuing\n",
      "Currently at round 18\n",
      "Currently at round 19\n",
      "Currently at round 20\n",
      "Currently at round 21\n",
      "Currently at round 22\n",
      "Currently at round 23\n",
      "Currently at round 24\n",
      "Currently at round 25\n",
      "Currently at round 26\n",
      "Currently at round 27\n",
      "Currently at round 28\n",
      "Currently at round 29\n",
      "Currently at round 30\n",
      "Currently at round 31\n",
      "Currently at round 32\n",
      "Currently at round 33\n",
      "Currently at round 34\n",
      "War ensuing\n",
      "Currently at round 35\n",
      "Currently at round 36\n",
      "Currently at round 37\n",
      "Currently at round 38\n",
      "Currently at round 39\n",
      "War ensuing\n",
      "War ensuing\n",
      "Currently at round 40\n",
      "Currently at round 41\n",
      "Currently at round 42\n",
      "Currently at round 43\n",
      "Currently at round 44\n",
      "Currently at round 45\n",
      "Currently at round 46\n",
      "Currently at round 47\n",
      "Currently at round 48\n",
      "Currently at round 49\n",
      "Currently at round 50\n",
      "Currently at round 51\n",
      "Currently at round 52\n",
      "Currently at round 53\n",
      "Currently at round 54\n",
      "Currently at round 55\n",
      "Currently at round 56\n",
      "Currently at round 57\n",
      "Currently at round 58\n",
      "Currently at round 59\n",
      "Currently at round 60\n",
      "Currently at round 61\n",
      "Currently at round 62\n",
      "Currently at round 63\n",
      "Currently at round 64\n",
      "Currently at round 65\n",
      "Currently at round 66\n",
      "Currently at round 67\n",
      "Currently at round 68\n",
      "Currently at round 69\n",
      "Currently at round 70\n",
      "Currently at round 71\n",
      "Currently at round 72\n",
      "Currently at round 73\n",
      "Currently at round 74\n",
      "Currently at round 75\n",
      "Currently at round 76\n",
      "Currently at round 77\n",
      "Currently at round 78\n",
      "Currently at round 79\n",
      "Currently at round 80\n",
      "Currently at round 81\n",
      "Currently at round 82\n",
      "Currently at round 83\n",
      "Currently at round 84\n",
      "Currently at round 85\n",
      "Currently at round 86\n",
      "Currently at round 87\n",
      "Currently at round 88\n",
      "Currently at round 89\n",
      "Currently at round 90\n",
      "Currently at round 91\n",
      "Currently at round 92\n",
      "Currently at round 93\n",
      "Currently at round 94\n",
      "Player One is out of cards. Player Two wins\n"
     ]
    }
   ],
   "source": [
    "round_num = 0\n",
    "\n",
    "while game_on:\n",
    "    # create game round counter\n",
    "    round_num += 1\n",
    "    print(f'Currently at round {round_num}')\n",
    "\n",
    "    # created check for whether game is won\n",
    "    if len(player_one.all_cards) == 0:\n",
    "        print('Player One is out of cards. Player Two wins')\n",
    "        game_on = False\n",
    "        break\n",
    "\n",
    "    if len(player_two.all_cards) == 0:\n",
    "        print('Player Two is out of cards. Player One wins')\n",
    "        game_on = False\n",
    "        break\n",
    "\n",
    "    # start a new round\n",
    "    player_one_cards = []\n",
    "    player_one_cards.append(player_one.remove_card())\n",
    "\n",
    "    player_two_cards = []\n",
    "    player_two_cards.append(player_two.remove_card())\n",
    "\n",
    "    # while at war\n",
    "    at_war = True\n",
    "    while at_war:\n",
    "        if player_one_cards[-1].value > player_two_cards[-1].value:\n",
    "\n",
    "            player_one.add_card(player_one_cards)\n",
    "            player_one.add_card(player_two_cards)\n",
    "\n",
    "            at_war = False\n",
    "\n",
    "        elif player_one_cards[-1].value < player_two_cards[-1].value:\n",
    "\n",
    "            player_two.add_card(player_one_cards)\n",
    "            player_two.add_card(player_two_cards)\n",
    "\n",
    "            at_war = False\n",
    "\n",
    "        else:\n",
    "            print('War ensuing')\n",
    "\n",
    "            if len(player_one.all_cards) < 5:\n",
    "                print(\"Player One has not enough cards. Player Two wins.\")\n",
    "                game_on = False\n",
    "                break\n",
    "            elif len(player_two.all_cards) < 5:\n",
    "                print(\"Player Two has not enough cards. Player One wins.\")\n",
    "                game_on = False\n",
    "                break\n",
    "            else:\n",
    "                for num in range(5):\n",
    "                    player_one_cards.append(player_one.remove_card())\n",
    "                    player_two_cards.append(player_two.remove_card())"
   ],
   "metadata": {
    "collapsed": false,
    "pycharm": {
     "name": "#%%\n"
    }
   }
  }
 ],
 "metadata": {
  "kernelspec": {
   "display_name": "Python 3",
   "language": "python",
   "name": "python3"
  },
  "language_info": {
   "codemirror_mode": {
    "name": "ipython",
    "version": 2
   },
   "file_extension": ".py",
   "mimetype": "text/x-python",
   "name": "python",
   "nbconvert_exporter": "python",
   "pygments_lexer": "ipython2",
   "version": "2.7.6"
  }
 },
 "nbformat": 4,
 "nbformat_minor": 0
}